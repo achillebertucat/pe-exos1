{
 "cells": [
  {
   "cell_type": "markdown",
   "id": "c6e81020",
   "metadata": {},
   "source": [
    "Licence CC BY-NC-ND, Valérie Roy & Thierry Parmentelat"
   ]
  },
  {
   "cell_type": "code",
   "execution_count": null,
   "id": "29a7af2b",
   "metadata": {},
   "outputs": [],
   "source": [
    "from IPython.display import HTML\n",
    "HTML(url=\"https://raw.githubusercontent.com/ue12-p22/python-numerique/main/notebooks/_static/style.html\")"
   ]
  },
  {
   "cell_type": "markdown",
   "id": "0110abb2",
   "metadata": {},
   "source": [
    "# TP sur le tri d'une dataframe"
   ]
  },
  {
   "cell_type": "markdown",
   "id": "fe59c026",
   "metadata": {},
   "source": [
    "**Notions intervenant dans ce TP**\n",
    "\n",
    "* tri de `pandas.DataFrame` par ligne, par colonne et par index\n",
    "\n",
    "**N'oubliez pas d'utiliser le help en cas de problème.**"
   ]
  },
  {
   "cell_type": "markdown",
   "id": "30141477",
   "metadata": {},
   "source": [
    "## import des librairies et des données\n",
    "\n",
    "1. importez les librairies `pandas`et `numpy`\n",
    "<br>\n",
    "\n",
    "1. importez la librairie `matplotlib.pyplot`  \n",
    "<br>\n",
    "\n",
    "1. lors de la lecture du fichier de données `titanic.csv`  \n",
    "   1. gardez uniquement les colonnes `cols` suivantes `'PassengerId'`, `'Survived'`, `'Pclass'`, `'Name'`, `'Sex'`, `'Age'` et `'Fare'`\n",
    "\n",
    "   1. mettez la colonne `PassengerId` comme index des lignes\n",
    "   1. besoin d'aide ? faites `pd.read_csv?`\n",
    "<br>\n",
    "\n",
    "1. affichez le type des colonnes de la dataframe  \n",
    "en utilisant l'attribut `dtypes` des objets `pandas.DataFrame`\n",
    "<br>\n",
    "\n",
    "1. sur le même graphique, et en utilisant `matplotlib.pyplot.plot`\n",
    "   1. plotez avec le paramètre `'rs'` la colonne des ages en fonctions des index  \n",
    "   (`r` pour rouge et `s` pour le style de point ici square)  \n",
    "   1. plotez avec paramètre `'b.'` et sans indiquer les abscisses, la colonne des ages\n",
    "   1. que constatez-vous ?\n",
    "   <br>\n",
    "   1. si vous n'indiquez pas l'axe des abscisses de votre dessin que choisit `plt` ? \n",
    "\n",
    "<br>"
   ]
  },
  {
   "cell_type": "code",
   "execution_count": null,
   "id": "0c99f73d",
   "metadata": {},
   "outputs": [],
   "source": []
  },
  {
   "cell_type": "code",
   "execution_count": null,
   "id": "02626d86",
   "metadata": {},
   "outputs": [],
   "source": [
    "#pd.read_csv?\n",
    "import numpy as np\n",
    "import pandas as pd\n",
    "import matplotlib.pyplot as plt"
   ]
  },
  {
   "cell_type": "code",
   "execution_count": null,
   "id": "bc65808d",
   "metadata": {},
   "outputs": [],
   "source": [
    "df = pd.read_csv('titanic.csv', index_col=\"PassengerId\")"
   ]
  },
  {
   "cell_type": "code",
   "execution_count": null,
   "id": "fad64033",
   "metadata": {},
   "outputs": [],
   "source": [
    "df = df.loc[:, [ 'Survived', 'Pclass', 'Name', 'Sex', 'Age' ,'Fare']]\n",
    "df.head(2)"
   ]
  },
  {
   "cell_type": "code",
   "execution_count": null,
   "id": "34a01744",
   "metadata": {},
   "outputs": [],
   "source": [
    "df.dtypes"
   ]
  },
  {
   "cell_type": "code",
   "execution_count": null,
   "id": "b2535761",
   "metadata": {},
   "outputs": [],
   "source": [
    "plt.plot(df.loc[:, 'Age'], 'b.')"
   ]
  },
  {
   "cell_type": "markdown",
   "id": "a6660ac1",
   "metadata": {},
   "source": [
    "## tri des lignes d'une dataframe\n",
    "\n",
    "le but de cet exercice est d'organiser les lignes d'une dataframe suivant l'ordre d'une ou de plusieurs colonnes.\n",
    "\n",
    "utilisez la méthode `df.sort_values()`\n",
    "\n",
    "1. pour créer une **nouvelle** dataframe  \n",
    "dont les lignes sont triées dans l'ordre croissant des classes des passagers  \n",
    "on veut être sûr d'avoir une nouvelle dataframe sans considération de ce que retourne la fonction `sort_values`\n",
    "<br>\n",
    "\n",
    "1. pour constater qu'elles sont triées, affichez les 3 premières lignes de la dataframe  \n",
    "vous devez voir que la colonne des `Pclass` est triée  \n",
    "que les lignes ont changé de place dans la table  \n",
    "et que leur indexation a été conservée\n",
    "<br>\n",
    "\n",
    "1. triez la dataframe précédente dans l'ordre des ages des passagers  \n",
    "elle doit être modifiée sans utiliser d'affectation Python  \n",
    "(on veut faire ce qu'on appelle en informatique un *tri en place*)\n",
    "<br>\n",
    "\n",
    "1. constater que les lignes de la dataframe sont triées  \n",
    "en affichant les 3 premières lignes de la dataframe\n",
    "<br>\n",
    "\n",
    "1. plotez la colonne des ages de la  dataframe  \n",
    "Que constatez-vous ?\n",
    "<br>\n",
    "\n",
    "1. plotez la colonne dans l'ordre des ages croissants\n",
    "<br>"
   ]
  },
  {
   "cell_type": "code",
   "execution_count": null,
   "id": "70f3bdb7",
   "metadata": {
    "lines_to_next_cell": 2
   },
   "outputs": [],
   "source": [
    "df = pd.read_csv('titanic.csv', index_col=\"PassengerId\")\n",
    "df = df.loc[:, [ 'Survived', 'Pclass', 'Name', 'Sex', 'Age' ,'Fare']]\n",
    "df2 = df.copy().sort_values(by='Age')"
   ]
  },
  {
   "cell_type": "code",
   "execution_count": null,
   "id": "8a996b99",
   "metadata": {
    "scrolled": true
   },
   "outputs": [],
   "source": [
    "df2[df2.Age.notna()].tail(3)\n",
    "plt.plot(df2.Age)"
   ]
  },
  {
   "cell_type": "code",
   "execution_count": null,
   "id": "e37dc4ab",
   "metadata": {},
   "outputs": [],
   "source": [
    "x = range(len(df))\n",
    "plt.plot(x, df2.Age)"
   ]
  },
  {
   "cell_type": "markdown",
   "id": "871b06e0",
   "metadata": {},
   "source": [
    "## tri des lignes *égales* au sens d'un premier critère d'une dataframe\n",
    "\n",
    "on reprend la dataframe d'origine\n",
    "\n",
    "1. affichez les ages des passagers d'index `673` et `746`  \n",
    "que constatez-vous ?\n",
    "<br>\n",
    "\n",
    "1. utilisez le paramètre `by` de `df.sort_values()`  \n",
    "afin d'indiquer aussi une seconde colonne - par exemple `Fare`  \n",
    "pour trier les lignes identiques au sens de la première colonne  \n",
    "rangez dans une nouvelle dataframe\n",
    "<br>\n",
    "\n",
    "1. sélectionnez, dans la nouvelle dataframe, la sous-dataframe dont les ages ne sont pas définis  \n",
    "<br>\n",
    "\n",
    "1. combien manque-il d'ages ?\n",
    "<br>\n",
    "\n",
    "1. où sont placés ces passagers dans la data-frame triée ?  \n",
    "en début (voir avec `head`) ou en fin (voir avec `tail`) de dataframe ?\n",
    "<br>\n",
    "\n",
    "1. trouvez le paramètre de `sort_values()`  \n",
    "qui permet de mettre ces lignes en début de dataframe lors du tri\n",
    "<br>\n",
    "\n",
    "1. produire une nouvelle dataframe en ne gardant que les ages connus,\n",
    "   et triée selon les ages, puis les prix de billet"
   ]
  },
  {
   "cell_type": "code",
   "execution_count": null,
   "id": "27d65e5f",
   "metadata": {},
   "outputs": [],
   "source": [
    "df = pd.read_csv('titanic.csv', index_col=\"PassengerId\")"
   ]
  },
  {
   "cell_type": "code",
   "execution_count": null,
   "id": "d0130127",
   "metadata": {},
   "outputs": [],
   "source": [
    "df.loc[[673, 746], 'Age']"
   ]
  },
  {
   "cell_type": "code",
   "execution_count": null,
   "id": "69f5e10f",
   "metadata": {},
   "outputs": [],
   "source": [
    " #ils ont le meme age\n",
    "df.sort_values?"
   ]
  },
  {
   "cell_type": "code",
   "execution_count": null,
   "id": "b30dc371",
   "metadata": {
    "lines_to_next_cell": 2
   },
   "outputs": [],
   "source": [
    "df1= df.copy().sort_values( by= 'Age', ascending=True)"
   ]
  },
  {
   "cell_type": "code",
   "execution_count": null,
   "id": "b6e2b48e",
   "metadata": {},
   "outputs": [],
   "source": [
    "selection = df1['Age'].isna().sum()\n",
    "selection\n",
    "#il y a 177 ages manquants"
   ]
  },
  {
   "cell_type": "code",
   "execution_count": null,
   "id": "1873b0a6",
   "metadata": {
    "lines_to_next_cell": 2
   },
   "outputs": [],
   "source": [
    "df1.head()"
   ]
  },
  {
   "cell_type": "code",
   "execution_count": null,
   "id": "8fee82da",
   "metadata": {
    "scrolled": true
   },
   "outputs": [],
   "source": [
    "df1.tail()\n",
    "#les ages manquants sont en fin de liste"
   ]
  },
  {
   "cell_type": "code",
   "execution_count": null,
   "id": "1ded9a30",
   "metadata": {},
   "outputs": [],
   "source": [
    "df1= df.copy().sort_values( by= 'Age', ascending=True, na_position = 'first' )\n",
    "df1.head()"
   ]
  },
  {
   "cell_type": "code",
   "execution_count": null,
   "id": "17b364bc",
   "metadata": {},
   "outputs": [],
   "source": []
  },
  {
   "cell_type": "code",
   "execution_count": null,
   "id": "6fc474ec",
   "metadata": {},
   "outputs": [],
   "source": [
    "df2= df1.tail(891-177).sort_values(by = 'Age')"
   ]
  },
  {
   "cell_type": "markdown",
   "id": "ca770057",
   "metadata": {
    "tags": [
     "level_intermediate"
    ]
   },
   "source": [
    "## tri d'une dataframe selon une colonne\n",
    "\n",
    "En utilisant `pandas.DataFrame.sort_values` il est possible de trier une dataframe  \n",
    "dans l'axe de ses colonnes\n",
    "\n",
    "1. Créez une dataframe de 4 lignes et 5 colonnes de valeurs entières aléatoires entre 0 et 100  \n",
    "   mettez comme index (par exemple):  \n",
    "   aux lignes  `'un'`, `'deux'`, `'trois'` et `'quatre'`  \n",
    "   aux colonnes `'a'`, `'b'`, `'c'`, `'d'` et `'e'`  \n",
    "   **indice**: voyez la documentation de `pd.DataFrame` \n",
    "   pour construire une dataframe  \n",
    "   par programme\n",
    "   <br>\n",
    "\n",
    "1. affichez la dataframe\n",
    "<br>\n",
    "\n",
    "1. Triez la dataframe en place dans l'ordre de la ligne d'index `trois`\n",
    "<br>\n",
    "\n",
    "1. Affichez la dataframe\n",
    "<br>"
   ]
  },
  {
   "cell_type": "code",
   "execution_count": null,
   "id": "ab15f357",
   "metadata": {},
   "outputs": [],
   "source": [
    "mat= np.random.randint(0,100, size=(4,5))"
   ]
  },
  {
   "cell_type": "code",
   "execution_count": null,
   "id": "f0e332f0",
   "metadata": {},
   "outputs": [],
   "source": [
    "mat"
   ]
  },
  {
   "cell_type": "code",
   "execution_count": null,
   "id": "d53ae08d",
   "metadata": {},
   "outputs": [],
   "source": [
    "DF= pd.DataFrame(data = mat, index = ['un', 'deux', 'trois', 'quatre'], columns = ['a', 'b', 'c', 'd', 'e'])"
   ]
  },
  {
   "cell_type": "markdown",
   "id": "41b4779b",
   "metadata": {},
   "source": [
    "df"
   ]
  },
  {
   "cell_type": "code",
   "execution_count": null,
   "id": "9649464c",
   "metadata": {},
   "outputs": [],
   "source": [
    "DF"
   ]
  },
  {
   "cell_type": "code",
   "execution_count": null,
   "id": "7c947879",
   "metadata": {
    "lines_to_next_cell": 2
   },
   "outputs": [],
   "source": [
    "DF2 = DF.copy()\n",
    "DF2 = DF2.sort_values(by =['trois'], axis=1)"
   ]
  },
  {
   "cell_type": "code",
   "execution_count": null,
   "id": "b249cee3",
   "metadata": {},
   "outputs": [],
   "source": [
    "DF2"
   ]
  },
  {
   "cell_type": "markdown",
   "id": "e2e2fe59",
   "metadata": {
    "tags": [
     "level_intermediate"
    ]
   },
   "source": [
    "## tri d'une dataframe selon l'index\n",
    "\n",
    "En utilisant `pandas.DataFrame.sort_index` il est possible de trier une dataframe  \n",
    "dans l'axe de ses index de ligne ou de colonnes  \n",
    "Utilisez le même genre de dataframe qu'à l'exercice précédent\n",
    "<br>\n",
    "\n",
    "1. affichez la dataframe\n",
    "<br>\n",
    "\n",
    "1. Trier la dataframe par index de ligne croissant  \n",
    "et affichez la dataframe\n",
    "<br>\n",
    "\n",
    "1. Triez la dataframe par index de colonne croissant\n",
    "et affichez la dataframe\n",
    "<br>\n",
    "\n",
    "Cela peut, par exemple, servir à réordonner la dataframe du Titanic  \n",
    "qui a été triée en place dans l'ordre des `Age`, `Fare` croissants  \n",
    "par ordre d'index de ligne croissants"
   ]
  },
  {
   "cell_type": "code",
   "execution_count": null,
   "id": "3d90608f",
   "metadata": {},
   "outputs": [],
   "source": [
    "mat= np.random.randint(0,100, size=(4,5))"
   ]
  },
  {
   "cell_type": "code",
   "execution_count": null,
   "id": "9c897065",
   "metadata": {},
   "outputs": [],
   "source": [
    "DF= pd.DataFrame(data = mat, index = ['un', 'deux', 'trois', 'quatre'], columns = ['a', 'b', 'c', 'd', 'e'])"
   ]
  },
  {
   "cell_type": "code",
   "execution_count": null,
   "id": "c4a03246",
   "metadata": {},
   "outputs": [],
   "source": [
    "DF"
   ]
  },
  {
   "cell_type": "code",
   "execution_count": null,
   "id": "0807d33e",
   "metadata": {},
   "outputs": [],
   "source": [
    "pd.DataFrame.sort_index?"
   ]
  },
  {
   "cell_type": "code",
   "execution_count": null,
   "id": "e7deffea",
   "metadata": {},
   "outputs": [],
   "source": [
    "DF2, DF3 =DF.copy(), DF.copy()\n",
    "DF2 = DF2.sort_index()\n",
    "DF3 = DF3.sort_index(axis=1)"
   ]
  },
  {
   "cell_type": "code",
   "execution_count": null,
   "id": "86b23f75",
   "metadata": {},
   "outputs": [],
   "source": [
    "DF2"
   ]
  },
  {
   "cell_type": "code",
   "execution_count": null,
   "id": "ede45e68",
   "metadata": {},
   "outputs": [],
   "source": [
    "DF3"
   ]
  },
  {
   "cell_type": "code",
   "execution_count": null,
   "id": "c066bd0e",
   "metadata": {},
   "outputs": [],
   "source": [
    " #on remarque bien que la derniere etait deja triee selon les colonnes on peut donc verifier que le sens inverse aurait marché"
   ]
  },
  {
   "cell_type": "code",
   "execution_count": null,
   "id": "f006040b",
   "metadata": {},
   "outputs": [],
   "source": [
    "DF3 = DF3.sort_index(axis=1, ascending=False)\n",
    "DF3"
   ]
  },
  {
   "cell_type": "code",
   "execution_count": null,
   "id": "31d032a0",
   "metadata": {},
   "outputs": [],
   "source": [
    " #ca marche bien"
   ]
  }
 ],
 "metadata": {
  "jupytext": {
   "cell_metadata_filter": "all,-hidden,-heading_collapsed,-run_control,-trusted",
   "cell_metadata_json": true,
   "encoding": "# -*- coding: utf-8 -*-",
   "notebook_metadata_filter": "all, -jupytext.text_representation.jupytext_version, -jupytext.text_representation.format_version, -language_info.version, -language_info.codemirror_mode.version, -language_info.codemirror_mode, -language_info.file_extension, -language_info.mimetype, -toc",
   "text_representation": {
    "extension": ".py",
    "format_name": "percent"
   }
  },
  "kernelspec": {
   "display_name": "Python 3 (ipykernel)",
   "language": "python",
   "name": "python3"
  },
  "language_info": {
   "name": "python",
   "nbconvert_exporter": "python",
   "pygments_lexer": "ipython3"
  },
  "nbhosting": {
   "title": "TP sur le tri d'une dataframe"
  }
 },
 "nbformat": 4,
 "nbformat_minor": 5
}
